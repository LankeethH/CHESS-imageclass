{
  "nbformat": 4,
  "nbformat_minor": 0,
  "metadata": {
    "colab": {
      "provenance": []
    },
    "kernelspec": {
      "name": "python3",
      "display_name": "Python 3"
    },
    "language_info": {
      "name": "python"
    }
  },
  "cells": [
    {
      "cell_type": "code",
      "execution_count": null,
      "metadata": {
        "colab": {
          "base_uri": "https://localhost:8080/"
        },
        "id": "ZsP3LU6rZpCC",
        "outputId": "59c0fa59-eccb-4dd2-c679-a168a97a52e4"
      },
      "outputs": [
        {
          "output_type": "stream",
          "name": "stdout",
          "text": [
            "Requirement already satisfied: split_folders in /usr/local/lib/python3.10/dist-packages (0.5.1)\n"
          ]
        }
      ],
      "source": [
        "pip install split_folders"
      ]
    },
    {
      "cell_type": "code",
      "source": [
        "import splitfolders"
      ],
      "metadata": {
        "id": "LVmV9ZmQZ4_H"
      },
      "execution_count": null,
      "outputs": []
    },
    {
      "cell_type": "code",
      "source": [
        "input = \"/content/drive/MyDrive/project -3 (chess)/Chess\"\n",
        "splitfolders.ratio(input,output=\"/content/drive/MyDrive/project -3 (chess)/dataset\",\n",
        "                   seed=43,ratio=(.8,.2),\n",
        "                   group_prefix=None)"
      ],
      "metadata": {
        "colab": {
          "base_uri": "https://localhost:8080/"
        },
        "id": "M9BCHBaEag0A",
        "outputId": "0c909022-fc8f-4b01-a040-c55a400d99e6"
      },
      "execution_count": null,
      "outputs": [
        {
          "output_type": "stream",
          "name": "stderr",
          "text": [
            "Copying files: 651 files [00:59, 10.86 files/s]\n"
          ]
        }
      ]
    },
    {
      "cell_type": "code",
      "source": [
        "import cv2"
      ],
      "metadata": {
        "id": "6b-5xCLobSBo"
      },
      "execution_count": null,
      "outputs": []
    },
    {
      "cell_type": "code",
      "source": [
        "\n",
        "input = \"/content/drive/MyDrive/project -3 (chess)/Chess\"\n",
        "im = cv2.imread('/content/drive/MyDrive/project -3 (chess)/dataset/train/knight-resize/00000001_resized.jpg')\n"
      ],
      "metadata": {
        "id": "7rf1Qa7pc8Bb"
      },
      "execution_count": null,
      "outputs": []
    },
    {
      "cell_type": "code",
      "source": [
        "input=im.shape\n",
        "img_width=im.shape[0]\n",
        "img_height=im.shape[1]\n"
      ],
      "metadata": {
        "id": "42Nqw9TLdPbC"
      },
      "execution_count": null,
      "outputs": []
    },
    {
      "cell_type": "code",
      "source": [
        "#New Tensorflow model\n",
        "import tensorflow as tf\n",
        "\n",
        "model = tf.keras.Sequential([\n",
        "    tf.keras.layers.Conv2D(filters = 16, kernel_size =2 , activation = 'relu',input_shape = (224,224,3)),\n",
        "    tf.keras.layers.MaxPool2D(2,2),\n",
        "    tf.keras.layers.Conv2D(filters = 16, kernel_size =2 , activation = 'relu' ),\n",
        "    tf.keras.layers.MaxPool2D(pool_size=2),\n",
        "\n",
        "    tf.keras.layers.Conv2D(filters = 32, kernel_size =2 , activation = 'relu' ),\n",
        "    tf.keras.layers.MaxPool2D(pool_size=2),\n",
        "\n",
        "\n",
        "    tf.keras.layers.Conv2D(filters = 64, kernel_size =2 , activation = 'relu' ),\n",
        "    tf.keras.layers.MaxPool2D(pool_size=2),\n",
        "\n",
        "\n",
        "    tf.keras.layers.Conv2D(filters = 128, kernel_size =2 , activation = 'relu' ),\n",
        "    tf.keras.layers.MaxPool2D(pool_size=2),\n",
        "\n",
        "\n",
        "\n",
        "    tf.keras.layers.Flatten(),\n",
        "\n",
        "    tf.keras.layers.Dense(512,activation=\"relu\"),\n",
        "\n",
        "    tf.keras.layers.Dense(5,activation=\"softmax\"),\n",
        "\n",
        "\n",
        "])\n",
        "\n",
        "model.summary()\n"
      ],
      "metadata": {
        "colab": {
          "base_uri": "https://localhost:8080/"
        },
        "id": "jOrVNmokdlXK",
        "outputId": "2ff7379b-d336-4235-d485-0b98b5ec81d4"
      },
      "execution_count": null,
      "outputs": [
        {
          "output_type": "stream",
          "name": "stdout",
          "text": [
            "Model: \"sequential_3\"\n",
            "_________________________________________________________________\n",
            " Layer (type)                Output Shape              Param #   \n",
            "=================================================================\n",
            " conv2d_15 (Conv2D)          (None, 223, 223, 16)      208       \n",
            "                                                                 \n",
            " max_pooling2d_15 (MaxPooli  (None, 111, 111, 16)      0         \n",
            " ng2D)                                                           \n",
            "                                                                 \n",
            " conv2d_16 (Conv2D)          (None, 110, 110, 16)      1040      \n",
            "                                                                 \n",
            " max_pooling2d_16 (MaxPooli  (None, 55, 55, 16)        0         \n",
            " ng2D)                                                           \n",
            "                                                                 \n",
            " conv2d_17 (Conv2D)          (None, 54, 54, 32)        2080      \n",
            "                                                                 \n",
            " max_pooling2d_17 (MaxPooli  (None, 27, 27, 32)        0         \n",
            " ng2D)                                                           \n",
            "                                                                 \n",
            " conv2d_18 (Conv2D)          (None, 26, 26, 64)        8256      \n",
            "                                                                 \n",
            " max_pooling2d_18 (MaxPooli  (None, 13, 13, 64)        0         \n",
            " ng2D)                                                           \n",
            "                                                                 \n",
            " conv2d_19 (Conv2D)          (None, 12, 12, 128)       32896     \n",
            "                                                                 \n",
            " max_pooling2d_19 (MaxPooli  (None, 6, 6, 128)         0         \n",
            " ng2D)                                                           \n",
            "                                                                 \n",
            " flatten_3 (Flatten)         (None, 4608)              0         \n",
            "                                                                 \n",
            " dense_6 (Dense)             (None, 512)               2359808   \n",
            "                                                                 \n",
            " dense_7 (Dense)             (None, 5)                 2565      \n",
            "                                                                 \n",
            "=================================================================\n",
            "Total params: 2406853 (9.18 MB)\n",
            "Trainable params: 2406853 (9.18 MB)\n",
            "Non-trainable params: 0 (0.00 Byte)\n",
            "_________________________________________________________________\n"
          ]
        }
      ]
    },
    {
      "cell_type": "code",
      "source": [
        "optimizer = tf.keras.optimizers.Adam(learning_rate=0.001)\n",
        "model.compile(optimizer=optimizer,\n",
        "loss = 'categorical_crossentropy',\n",
        "metrics=['accuracy'])"
      ],
      "metadata": {
        "id": "zyb4AjGKe0KF"
      },
      "execution_count": null,
      "outputs": []
    },
    {
      "cell_type": "code",
      "source": [],
      "metadata": {
        "id": "AxawAwhjfGFt"
      },
      "execution_count": null,
      "outputs": []
    },
    {
      "cell_type": "code",
      "source": [
        "# this is the data augmentation configuration we will use for training\n",
        "from tensorflow.keras.preprocessing.image import ImageDataGenerator\n",
        "train_datagen = ImageDataGenerator(\n",
        "    rescale=1. / 255,\n",
        "    shear_range=0.2,\n",
        "    zoom_range=0.2,\n",
        "    horizontal_flip=True\n",
        ")"
      ],
      "metadata": {
        "id": "JZ9sYibXfSC1"
      },
      "execution_count": null,
      "outputs": []
    },
    {
      "cell_type": "code",
      "source": [
        "test_datagen = ImageDataGenerator(rescale=1. / 255)\n",
        "batch_size =32\n",
        "train_data_dir=\"/content/drive/MyDrive/project -3 (chess)/dataset/train\"\n",
        "validation_data_dir=\"/content/drive/MyDrive/project -3 (chess)/dataset/val\"\n",
        "img_width = 224\n",
        "img_height = 224\n",
        "\n",
        "train_generator = train_datagen.flow_from_directory(\n",
        "    train_data_dir,\n",
        "    target_size=(img_width, img_height),\n",
        "    batch_size=batch_size,\n",
        "    class_mode='categorical'\n",
        ")\n",
        "\n",
        "validation_generator = test_datagen.flow_from_directory(\n",
        "    validation_data_dir,\n",
        "    target_size=(img_width, img_height),\n",
        "    batch_size=batch_size,\n",
        "    class_mode='categorical'\n",
        ")"
      ],
      "metadata": {
        "colab": {
          "base_uri": "https://localhost:8080/"
        },
        "id": "zoOJSybqfp5r",
        "outputId": "07bc48f8-d820-47b0-db4f-6fa07869b72d"
      },
      "execution_count": null,
      "outputs": [
        {
          "output_type": "stream",
          "name": "stdout",
          "text": [
            "Found 519 images belonging to 5 classes.\n",
            "Found 198 images belonging to 5 classes.\n"
          ]
        }
      ]
    },
    {
      "cell_type": "code",
      "source": [],
      "metadata": {
        "id": "dl6Mo7M3iYHw"
      },
      "execution_count": null,
      "outputs": []
    },
    {
      "cell_type": "code",
      "source": [
        "history = model.fit(\n",
        "    train_generator,\n",
        "    steps_per_epoch=16, #number of batches per epoch\n",
        "    epochs=25,\n",
        "    validation_data= validation_generator,\n",
        "    validation_steps= 6 , #Number of batchses per validation\n",
        "    batch_size=32\n",
        "\n",
        "\n",
        ")"
      ],
      "metadata": {
        "id": "dG_CJ3S4gTJj",
        "colab": {
          "base_uri": "https://localhost:8080/"
        },
        "outputId": "3e27d7c9-1ba8-4955-a5c1-b65a396fc7d2"
      },
      "execution_count": null,
      "outputs": [
        {
          "output_type": "stream",
          "name": "stdout",
          "text": [
            "Epoch 1/25\n",
            "16/16 [==============================] - 26s 2s/step - loss: 1.6120 - accuracy: 0.2587 - val_loss: 1.5869 - val_accuracy: 0.2708\n",
            "Epoch 2/25\n",
            "16/16 [==============================] - 24s 1s/step - loss: 1.5682 - accuracy: 0.2710 - val_loss: 1.5794 - val_accuracy: 0.2656\n",
            "Epoch 3/25\n",
            "16/16 [==============================] - 27s 2s/step - loss: 1.5535 - accuracy: 0.2916 - val_loss: 1.5250 - val_accuracy: 0.3177\n",
            "Epoch 4/25\n",
            "16/16 [==============================] - 23s 1s/step - loss: 1.5378 - accuracy: 0.3429 - val_loss: 1.4989 - val_accuracy: 0.3281\n",
            "Epoch 5/25\n",
            "16/16 [==============================] - 26s 2s/step - loss: 1.4043 - accuracy: 0.4415 - val_loss: 1.4095 - val_accuracy: 0.4427\n",
            "Epoch 6/25\n",
            "16/16 [==============================] - 26s 2s/step - loss: 1.3430 - accuracy: 0.4682 - val_loss: 1.4063 - val_accuracy: 0.4219\n",
            "Epoch 7/25\n",
            "16/16 [==============================] - 24s 2s/step - loss: 1.2950 - accuracy: 0.4702 - val_loss: 1.2896 - val_accuracy: 0.5156\n",
            "Epoch 8/25\n",
            "16/16 [==============================] - 27s 2s/step - loss: 1.2517 - accuracy: 0.5010 - val_loss: 1.2091 - val_accuracy: 0.5208\n",
            "Epoch 9/25\n",
            "16/16 [==============================] - 24s 2s/step - loss: 1.1472 - accuracy: 0.5441 - val_loss: 1.1400 - val_accuracy: 0.5781\n",
            "Epoch 10/25\n",
            "16/16 [==============================] - 27s 2s/step - loss: 1.0668 - accuracy: 0.5934 - val_loss: 1.1309 - val_accuracy: 0.5938\n",
            "Epoch 11/25\n",
            "16/16 [==============================] - 24s 1s/step - loss: 1.0137 - accuracy: 0.6140 - val_loss: 1.0949 - val_accuracy: 0.5677\n",
            "Epoch 12/25\n",
            "16/16 [==============================] - 27s 2s/step - loss: 0.9843 - accuracy: 0.6550 - val_loss: 1.0559 - val_accuracy: 0.5885\n",
            "Epoch 13/25\n",
            "16/16 [==============================] - 27s 2s/step - loss: 0.8958 - accuracy: 0.6756 - val_loss: 1.0130 - val_accuracy: 0.5833\n",
            "Epoch 14/25\n",
            "16/16 [==============================] - 25s 2s/step - loss: 0.8964 - accuracy: 0.6653 - val_loss: 0.9722 - val_accuracy: 0.6406\n",
            "Epoch 15/25\n",
            "16/16 [==============================] - 25s 2s/step - loss: 0.7832 - accuracy: 0.7146 - val_loss: 0.9216 - val_accuracy: 0.6719\n",
            "Epoch 16/25\n",
            "16/16 [==============================] - 28s 2s/step - loss: 0.7153 - accuracy: 0.7474 - val_loss: 0.8752 - val_accuracy: 0.6927\n",
            "Epoch 17/25\n",
            "16/16 [==============================] - 24s 2s/step - loss: 0.6831 - accuracy: 0.7639 - val_loss: 0.9944 - val_accuracy: 0.6458\n",
            "Epoch 18/25\n",
            "16/16 [==============================] - 24s 1s/step - loss: 0.6663 - accuracy: 0.7598 - val_loss: 0.8015 - val_accuracy: 0.7188\n",
            "Epoch 19/25\n",
            "16/16 [==============================] - 26s 2s/step - loss: 0.6071 - accuracy: 0.7947 - val_loss: 0.9135 - val_accuracy: 0.6510\n",
            "Epoch 20/25\n",
            "16/16 [==============================] - 28s 2s/step - loss: 0.5873 - accuracy: 0.7715 - val_loss: 0.9516 - val_accuracy: 0.6562\n",
            "Epoch 21/25\n",
            "16/16 [==============================] - 26s 2s/step - loss: 0.5503 - accuracy: 0.8172 - val_loss: 0.8377 - val_accuracy: 0.7188\n",
            "Epoch 22/25\n",
            "16/16 [==============================] - 26s 2s/step - loss: 0.4984 - accuracy: 0.8172 - val_loss: 0.7595 - val_accuracy: 0.7656\n",
            "Epoch 23/25\n",
            "16/16 [==============================] - 24s 2s/step - loss: 0.5097 - accuracy: 0.8111 - val_loss: 0.8551 - val_accuracy: 0.7188\n",
            "Epoch 24/25\n",
            "16/16 [==============================] - 28s 2s/step - loss: 0.3881 - accuracy: 0.8542 - val_loss: 0.8599 - val_accuracy: 0.7656\n",
            "Epoch 25/25\n",
            "16/16 [==============================] - 23s 1s/step - loss: 0.3932 - accuracy: 0.8624 - val_loss: 0.8255 - val_accuracy: 0.7552\n"
          ]
        }
      ]
    },
    {
      "cell_type": "code",
      "source": [
        "\n",
        "\n",
        "import numpy as np\n",
        "\n",
        "\n",
        "import cv2\n",
        "\n",
        "from PIL import Image\n",
        "\n",
        "\n",
        "path = (\"/content/drive/MyDrive/project -3 (chess)/dataset/train/pawn_resized/00000001_resized.jpg\")\n",
        "\n",
        "img = Image.open(path)\n",
        "\n",
        "\n",
        "\n",
        "new_size = (224, 224)\n",
        "im = img.resize(new_size)\n",
        "\n",
        "\n",
        "\n",
        "\n",
        "img = np.array(im) / 255.\n",
        "\n",
        "img.shape\n",
        "\n",
        "img = img[np.newaxis, ...]\n",
        "\n",
        "\n"
      ],
      "metadata": {
        "id": "OQJXB56dmUqW",
        "colab": {
          "base_uri": "https://localhost:8080/"
        },
        "outputId": "f6992f2c-4f88-41ee-b479-4b5f38345cc3"
      },
      "execution_count": null,
      "outputs": [
        {
          "output_type": "execute_result",
          "data": {
            "text/plain": [
              "array([[[[1., 1., 1.],\n",
              "         [1., 1., 1.],\n",
              "         [1., 1., 1.],\n",
              "         ...,\n",
              "         [1., 1., 1.],\n",
              "         [1., 1., 1.],\n",
              "         [1., 1., 1.]],\n",
              "\n",
              "        [[1., 1., 1.],\n",
              "         [1., 1., 1.],\n",
              "         [1., 1., 1.],\n",
              "         ...,\n",
              "         [1., 1., 1.],\n",
              "         [1., 1., 1.],\n",
              "         [1., 1., 1.]],\n",
              "\n",
              "        [[1., 1., 1.],\n",
              "         [1., 1., 1.],\n",
              "         [1., 1., 1.],\n",
              "         ...,\n",
              "         [1., 1., 1.],\n",
              "         [1., 1., 1.],\n",
              "         [1., 1., 1.]],\n",
              "\n",
              "        ...,\n",
              "\n",
              "        [[1., 1., 1.],\n",
              "         [1., 1., 1.],\n",
              "         [1., 1., 1.],\n",
              "         ...,\n",
              "         [1., 1., 1.],\n",
              "         [1., 1., 1.],\n",
              "         [1., 1., 1.]],\n",
              "\n",
              "        [[1., 1., 1.],\n",
              "         [1., 1., 1.],\n",
              "         [1., 1., 1.],\n",
              "         ...,\n",
              "         [1., 1., 1.],\n",
              "         [1., 1., 1.],\n",
              "         [1., 1., 1.]],\n",
              "\n",
              "        [[1., 1., 1.],\n",
              "         [1., 1., 1.],\n",
              "         [1., 1., 1.],\n",
              "         ...,\n",
              "         [1., 1., 1.],\n",
              "         [1., 1., 1.],\n",
              "         [1., 1., 1.]]]])"
            ]
          },
          "metadata": {},
          "execution_count": 53
        }
      ]
    },
    {
      "cell_type": "code",
      "source": [
        "np.sort(model.predict(img))"
      ],
      "metadata": {
        "id": "mQjytRB4XhUm",
        "colab": {
          "base_uri": "https://localhost:8080/"
        },
        "outputId": "dbe6c4f1-7a1b-43c1-f945-71e9f832fa46"
      },
      "execution_count": null,
      "outputs": [
        {
          "output_type": "stream",
          "name": "stdout",
          "text": [
            "1/1 [==============================] - 0s 57ms/step\n"
          ]
        },
        {
          "output_type": "execute_result",
          "data": {
            "text/plain": [
              "array([[1.2916436e-06, 3.7994050e-06, 4.2390944e-05, 5.7785744e-03,\n",
              "        9.9417394e-01]], dtype=float32)"
            ]
          },
          "metadata": {},
          "execution_count": 54
        }
      ]
    },
    {
      "cell_type": "code",
      "source": [
        "import matplotlib.pyplot as plt\n",
        "plt.plot(history.history['loss'], label='train loss')\n",
        "plt.plot(history.history['val_loss'], label='val loss')\n",
        "plt.legend()\n",
        "plt.show()\n",
        "plt.savefig('LossVal_loss')\n",
        "\n",
        "\n",
        "plt.plot(history.history['accuracy'], label='train acc')\n",
        "plt.plot(history.history['val_accuracy'], label='val acc')\n",
        "plt.legend()\n",
        "plt.show()\n",
        "plt.savefig(\"AccVall_acc\")"
      ],
      "metadata": {
        "id": "7JIzK9Beo1jM",
        "colab": {
          "base_uri": "https://localhost:8080/",
          "height": 860
        },
        "outputId": "b86a3200-a22d-4969-a5bd-9c37ed651a49"
      },
      "execution_count": null,
      "outputs": [
        {
          "output_type": "display_data",
          "data": {
            "text/plain": [
              "<Figure size 640x480 with 1 Axes>"
            ],
            "image/png": "[encoded data removed]"
          },
          "metadata": {}
        },
        {
          "output_type": "display_data",
          "data": {
            "text/plain": [
              "<Figure size 640x480 with 1 Axes>"
            ],
            "image/png": "[encoded data removed]"
          },
          "metadata": {}
        },
        {
          "output_type": "display_data",
          "data": {
            "text/plain": [
              "<Figure size 640x480 with 0 Axes>"
            ]
          },
          "metadata": {}
        }
      ]
    },
    {
      "cell_type": "code",
      "source": [
        "model.save(\"/content/drive/MyDrive/project -3 (chess)/save.h5\")"
      ],
      "metadata": {
        "id": "wPgdsMgHuWuj"
      },
      "execution_count": null,
      "outputs": []
    },
    {
      "cell_type": "code",
      "source": [],
      "metadata": {
        "id": "N7xsNrk3WmAq"
      },
      "execution_count": null,
      "outputs": []
    }
  ]
}